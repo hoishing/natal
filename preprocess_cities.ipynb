{
 "cells": [
  {
   "cell_type": "markdown",
   "metadata": {},
   "source": [
    "Geonames Data\n",
    "\n",
    "- file: https://download.geonames.org/export/dump/cities5000.zip\n",
    "- all cities with a population > 5000\n",
    "- data definition: https://download.geonames.org/export/dump/readme.txt"
   ]
  },
  {
   "cell_type": "code",
   "execution_count": 1,
   "metadata": {},
   "outputs": [],
   "source": [
    "import pandas as pd"
   ]
  },
  {
   "cell_type": "code",
   "execution_count": 2,
   "metadata": {},
   "outputs": [],
   "source": [
    "cols = [\n",
    "    \"geonameid\",\n",
    "    \"name\",\n",
    "    \"asciiname\",\n",
    "    \"alternatenames\",\n",
    "    \"latitude\",\n",
    "    \"longitude\",\n",
    "    \"feature class\",\n",
    "    \"feature code\",\n",
    "    \"country code\",\n",
    "    \"cc2\",\n",
    "    \"admin1 code\",\n",
    "    \"admin2 code\",\n",
    "    \"admin3 code\",\n",
    "    \"admin4 code\",\n",
    "    \"population\",\n",
    "    \"elevation\",\n",
    "    \"dem\",\n",
    "    \"timezone\",\n",
    "    \"modification\",\n",
    "]"
   ]
  },
  {
   "cell_type": "code",
   "execution_count": 3,
   "metadata": {},
   "outputs": [
    {
     "data": {
      "text/plain": [
       "58644"
      ]
     },
     "execution_count": 3,
     "metadata": {},
     "output_type": "execute_result"
    }
   ],
   "source": [
    "df = pd.read_csv(\n",
    "    \"https://download.geonames.org/export/dump/cities5000.zip\",\n",
    "    sep=\"\\t\",\n",
    "    names=cols,\n",
    "    na_values=[\"\"],\n",
    "    keep_default_na=False,\n",
    ")\n",
    "len(df)"
   ]
  },
  {
   "cell_type": "markdown",
   "metadata": {},
   "source": [
    "filter data source with the following criteria:\n",
    "\n",
    "- first-order administrative division with a population > 10000\n",
    "- second/third-order administrative division with a population > 500,000\n",
    "- capital cities\n",
    "\n",
    "where feature codes are:\n",
    "\n",
    "- PPLA - first-order administrative division\n",
    "- PPLA2 - second-order administrative division\n",
    "- PPLA3 - third-order administrative division\n",
    "- PPLC - Capital of a country, region\n",
    "- PPLCD - Capital of a dependency or special area\n",
    "- PPLCH - Historical Capital\n",
    "\n",
    "refer https://download.geonames.org/export/dump/featureCodes_en.txt for details"
   ]
  },
  {
   "cell_type": "code",
   "execution_count": 4,
   "metadata": {},
   "outputs": [],
   "source": [
    "criteria = (\n",
    "    ((df[\"feature code\"] == \"PPLA\") & (df[\"population\"] > 10000))\n",
    "    | ((df[\"feature code\"].isin([\"PPLA2\", \"PPLA3\"])) & (df[\"population\"] > 500_000))\n",
    "    | (df[\"feature code\"].isin([\"PPLC\", \"PPLCD\", \"PPLCH\"]))\n",
    ")"
   ]
  },
  {
   "cell_type": "markdown",
   "metadata": {},
   "source": [
    "- cities ordered by name with the following columns:\n",
    "  - asciiname\n",
    "  - population\n",
    "  - timezone\n",
    "  - country code\n",
    "  - latitude\n",
    "  - longitude\n",
    "- rename the columns to the following:\n",
    "  - name\n",
    "  - pop\n",
    "  - timezone\n",
    "  - country\n",
    "  - lat\n",
    "  - lon"
   ]
  },
  {
   "cell_type": "code",
   "execution_count": 5,
   "metadata": {},
   "outputs": [],
   "source": [
    "# unique admin1 codes\n",
    "df = df[criteria][[\"asciiname\", \"population\", \"timezone\", \"country code\", \"latitude\", \"longitude\"]]\n",
    "df.columns = [\"name\", \"pop\", \"timezone\", \"country\", \"lat\", \"lon\"]"
   ]
  },
  {
   "cell_type": "markdown",
   "metadata": {},
   "source": [
    "extra cleanup \n",
    "\n",
    "- remove starting single quote in the name column\n",
    "- change lat and lon to 6 significant digits\n",
    "- case insensitive sorting by name and population\n",
    "- drop duplicates"
   ]
  },
  {
   "cell_type": "code",
   "execution_count": 7,
   "metadata": {},
   "outputs": [],
   "source": [
    "df[\"name\"] = df[\"name\"].str.lstrip(\"'\")\n",
    "df[\"lat\"] = df[\"lat\"].apply(lambda x: float('{:.6g}'.format(x)))\n",
    "df[\"lon\"] = df[\"lon\"].apply(lambda x: float('{:.6g}'.format(x)))"
   ]
  },
  {
   "cell_type": "code",
   "execution_count": 19,
   "metadata": {},
   "outputs": [],
   "source": [
    "cities = df.sort_values(\n",
    "    by=[\"name\", \"pop\"],\n",
    "    key=lambda x: x.str.lower() if x.name == \"name\" else x,\n",
    "    ascending=[True, False],\n",
    ")\n",
    "cities = cities.drop_duplicates(subset=[\"name\", \"country\"], keep=\"first\")"
   ]
  },
  {
   "cell_type": "code",
   "execution_count": 21,
   "metadata": {},
   "outputs": [],
   "source": [
    "# export to gzipped csv\n",
    "cities.to_csv(\"natal/data/cities.csv.gz\", index=False, compression=\"gzip\")"
   ]
  }
 ],
 "metadata": {
  "kernelspec": {
   "display_name": ".venv",
   "language": "python",
   "name": "python3"
  },
  "language_info": {
   "codemirror_mode": {
    "name": "ipython",
    "version": 3
   },
   "file_extension": ".py",
   "mimetype": "text/x-python",
   "name": "python",
   "nbconvert_exporter": "python",
   "pygments_lexer": "ipython3",
   "version": "3.12.8"
  }
 },
 "nbformat": 4,
 "nbformat_minor": 2
}
